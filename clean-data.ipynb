{
 "cells": [
  {
   "cell_type": "markdown",
   "id": "c8351539",
   "metadata": {},
   "source": [
    "# How to clean data from raw\n",
    "\n",
    "\n",
    "### String manipulation\n",
    "![Alt text](https://i.ytimg.com/vi/PNoP79KxI98/maxresdefault.jpg \"a title\")"
   ]
  },
  {
   "cell_type": "code",
   "execution_count": 4,
   "id": "302dcf98",
   "metadata": {},
   "outputs": [
    {
     "data": {
      "text/plain": [
       "'T'"
      ]
     },
     "execution_count": 4,
     "metadata": {},
     "output_type": "execute_result"
    }
   ],
   "source": [
    "s = 'Tu va Data'\n",
    "s[0]"
   ]
  },
  {
   "cell_type": "code",
   "execution_count": 2,
   "id": "afb79509",
   "metadata": {},
   "outputs": [
    {
     "name": "stdout",
     "output_type": "stream",
     "text": [
      "d\n",
      "u\n",
      "n\n",
      "g\n",
      "l\n",
      "a\n",
      "i\n"
     ]
    }
   ],
   "source": [
    "for i in range(7):\n",
    "    print(s[i])"
   ]
  },
  {
   "cell_type": "code",
   "execution_count": 3,
   "id": "a7f5d98a",
   "metadata": {},
   "outputs": [
    {
     "name": "stdout",
     "output_type": "stream",
     "text": [
      "i\n"
     ]
    }
   ],
   "source": [
    "print(s[-1])"
   ]
  },
  {
   "cell_type": "code",
   "execution_count": 5,
   "id": "a2b7104c",
   "metadata": {},
   "outputs": [
    {
     "name": "stdout",
     "output_type": "stream",
     "text": [
      "['Tu', 'va', 'Data']\n"
     ]
    }
   ],
   "source": [
    "print(s.split())"
   ]
  },
  {
   "cell_type": "code",
   "execution_count": 6,
   "id": "05757961",
   "metadata": {},
   "outputs": [],
   "source": [
    "list = s.split()"
   ]
  },
  {
   "cell_type": "code",
   "execution_count": 8,
   "id": "19f02c9e",
   "metadata": {},
   "outputs": [
    {
     "name": "stdout",
     "output_type": "stream",
     "text": [
      "['Tu', 'va', 'Data']\n"
     ]
    }
   ],
   "source": [
    "print(list)"
   ]
  },
  {
   "cell_type": "code",
   "execution_count": 11,
   "id": "535a6503",
   "metadata": {},
   "outputs": [
    {
     "data": {
      "text/plain": [
       "list"
      ]
     },
     "execution_count": 11,
     "metadata": {},
     "output_type": "execute_result"
    }
   ],
   "source": [
    "type(list)"
   ]
  },
  {
   "cell_type": "code",
   "execution_count": 12,
   "id": "c91a7cb8",
   "metadata": {},
   "outputs": [
    {
     "data": {
      "text/plain": [
       "'Tu va Data'"
      ]
     },
     "execution_count": 12,
     "metadata": {},
     "output_type": "execute_result"
    }
   ],
   "source": [
    "s"
   ]
  },
  {
   "cell_type": "code",
   "execution_count": 15,
   "id": "b8f84cc3",
   "metadata": {},
   "outputs": [],
   "source": [
    "s = s.replace('Data', \"du lieu\")"
   ]
  },
  {
   "cell_type": "code",
   "execution_count": 16,
   "id": "e0fd31b5",
   "metadata": {},
   "outputs": [
    {
     "data": {
      "text/plain": [
       "'Tu va du lieu'"
      ]
     },
     "execution_count": 16,
     "metadata": {},
     "output_type": "execute_result"
    }
   ],
   "source": [
    "s"
   ]
  },
  {
   "cell_type": "code",
   "execution_count": 68,
   "id": "e95cbc06",
   "metadata": {},
   "outputs": [],
   "source": [
    "file = open('./dunglai/raw_data.txt', 'r')\n",
    "data = file.readline()\n",
    "\n",
    "# Save to ./dunglai/text.txt\n",
    "file_test = open(\"./dunglai/text.txt\", \"w\")\n",
    "file_test.write(data)\n",
    "file_test.close()"
   ]
  },
  {
   "cell_type": "code",
   "execution_count": 69,
   "id": "393fc823",
   "metadata": {},
   "outputs": [],
   "source": [
    "# # Clean html tag\n",
    "file_test = open(\"./dunglai/text.txt\", \"r\")\n",
    "data = file_test.read()\n",
    "tag = []\n",
    "for i in range(len(data)):\n",
    "   if data[i] == \"<\":\n",
    "    begin = i\n",
    "   if data[i] == \">\":\n",
    "    end = i\n",
    "    tag.append(data[begin:end+1])\n",
    "# print(tag)\n",
    "\n",
    "for i in tag:\n",
    "    data = data.replace(i, \"\")\n",
    "\n",
    "file_test = open(\"./dunglai/text.txt\", \"w\")\n",
    "file_test.write(data)\n",
    "file_test.close()"
   ]
  },
  {
   "cell_type": "code",
   "execution_count": 70,
   "id": "285edd27",
   "metadata": {},
   "outputs": [
    {
     "name": "stdout",
     "output_type": "stream",
     "text": [
      "[\"b'\", 'Show - S\\\\xe1\\\\xbb\\\\x9f Gi\\\\xc3\\\\xa1o d\\\\xe1\\\\xbb\\\\xa5c v\\\\xc3\\\\xa0 \\\\xc4\\\\x90\\\\xc3\\\\xa0o t\\\\xe1\\\\xba\\\\xa1o TP HCM', 'TRA C\\\\xe1\\\\xbb\\\\xa8U \\\\xc4\\\\x90I\\\\xe1\\\\xbb\\\\x82M', 'K\\\\xe1\\\\xbb\\\\xb2 THI T\\\\xe1\\\\xbb\\\\x90T NGHI\\\\xe1\\\\xbb\\\\x86P TRUNG H\\\\xe1\\\\xbb\\\\x8cC PH\\\\xe1\\\\xbb\\\\x94 TH\\\\xc3\\\\x94NG 2020', 'H\\\\xe1\\\\xbb\\\\x8d v\\\\xc3\\\\xa0 T\\\\xc3\\\\xaan', 'Ng\\\\xc3\\\\xa0y sinh', '\\\\xc4\\\\x90i\\\\xe1\\\\xbb\\\\x83m thi', 'PH\\\\xe1\\\\xba\\\\xa0M HO&#192;NG H\\\\xc6\\\\xaf\\\\xc6\\\\xa0NG &#193;I', '04/11/2002', 'To&#225;n:   6.60   Ng\\\\xe1\\\\xbb\\\\xaf v\\\\xc4\\\\x83n:   6.25   L\\\\xe1\\\\xbb\\\\x8bch s\\\\xe1\\\\xbb\\\\xad:   5.75   \\\\xc4\\\\x90\\\\xe1\\\\xbb\\\\x8ba l&#237;:   7.00   GDCD:   7.25   KHXH: 6.67   Ti\\\\xe1\\\\xba\\\\xbfng Anh:   5.20', \"'\"]\n"
     ]
    }
   ],
   "source": [
    "# Clear \\r and \\t \n",
    "file_test = open(\"./dunglai/text.txt\", \"r\")\n",
    "data = file_test.read().split(\"\\\\n\")\n",
    "\n",
    "for i in range(len(data)):\n",
    "    w = data[i].replace('\\\\r', '')\n",
    "    w = w.replace('\\\\t', '')\n",
    "    data[i] = w.strip()\n",
    "\n",
    "unempty_data = []\n",
    "for i in range(len(data)):\n",
    "    if data[i] != \"\":\n",
    "        unempty_data.append(data[i])\n",
    "\n",
    "data = unempty_data\n",
    "\n",
    "print(data)\n",
    "\n",
    "file_test = open(\"./dunglai/text.txt\", \"w\")\n",
    "for i in range(len(data)):\n",
    "    file_test.write(data[i] + \"\\n\")\n",
    "file_test.close()"
   ]
  },
  {
   "cell_type": "code",
   "execution_count": null,
   "id": "d32b5ecd",
   "metadata": {},
   "outputs": [],
   "source": [
    "file_test = open(\"./dunglai/text.txt\", \"r\")\n",
    "data = file_test.read().split(\"\\n\")\n",
    "name = data[7]\n",
    "dob = data[8]\n",
    "scores = data[9]\n",
    "data = [name, dob, scores]\n",
    "# print(data)\n",
    "\n",
    "import codecs\n",
    "decode_file = open('./dunglai/unicode.txt', encoding=\"UTF-8\")\n",
    "print(decode_file.read())\n",
    "# for line in decode_file:\n",
    "#     print(line)"
   ]
  }
 ],
 "metadata": {
  "kernelspec": {
   "display_name": "Python 3 (ipykernel)",
   "language": "python",
   "name": "python3"
  },
  "language_info": {
   "codemirror_mode": {
    "name": "ipython",
    "version": 3
   },
   "file_extension": ".py",
   "mimetype": "text/x-python",
   "name": "python",
   "nbconvert_exporter": "python",
   "pygments_lexer": "ipython3",
   "version": "3.9.7"
  }
 },
 "nbformat": 4,
 "nbformat_minor": 5
}
