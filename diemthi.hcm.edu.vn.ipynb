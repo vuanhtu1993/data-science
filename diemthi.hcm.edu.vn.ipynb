{
 "cells": [
  {
   "cell_type": "code",
   "execution_count": 1,
   "id": "8e170baa",
   "metadata": {},
   "outputs": [],
   "source": [
    "import numpy as np\n",
    "import pandas as pd"
   ]
  },
  {
   "cell_type": "code",
   "execution_count": 3,
   "id": "f8afd6bd",
   "metadata": {},
   "outputs": [
    {
     "ename": "SyntaxError",
     "evalue": "invalid syntax (Temp/ipykernel_12832/4199142115.py, line 1)",
     "output_type": "error",
     "traceback": [
      "\u001b[1;36m  File \u001b[1;32m\"C:\\Users\\tuva6\\AppData\\Local\\Temp/ipykernel_12832/4199142115.py\"\u001b[1;36m, line \u001b[1;32m1\u001b[0m\n\u001b[1;33m    curl https://google.com.vn\u001b[0m\n\u001b[1;37m         ^\u001b[0m\n\u001b[1;31mSyntaxError\u001b[0m\u001b[1;31m:\u001b[0m invalid syntax\n"
     ]
    }
   ],
   "source": [
    "curl https://google.com.vn"
   ]
  },
  {
   "cell_type": "code",
   "execution_count": null,
   "id": "6b108c4c",
   "metadata": {},
   "outputs": [],
   "source": [
    "import requests\n",
    "url = 'https://www.googleapis.com/qpxExpress/v1/trips/search?key=mykeyhere'\n",
    "# payload = open(\"request.json\")\n",
    "headers = {'content-type': 'application/json', 'Accept-Charset': 'UTF-8'}\n",
    "# r = requests.post(url, data=payload, headers=headers)\n",
    "r = requests.get(url)"
   ]
  },
  {
   "cell_type": "code",
   "execution_count": 12,
   "id": "37214182",
   "metadata": {},
   "outputs": [],
   "source": [
    "# mark_df = pd.read_csv('./dunglai/raw_data.txt')"
   ]
  },
  {
   "cell_type": "code",
   "execution_count": 17,
   "id": "44c5c014",
   "metadata": {},
   "outputs": [],
   "source": [
    "file = open('./dunglai/raw_data.txt', 'r')\n",
    "line = file.read().split('\\n')"
   ]
  },
  {
   "cell_type": "code",
   "execution_count": 19,
   "id": "58c21c0f",
   "metadata": {},
   "outputs": [
    {
     "name": "stdout",
     "output_type": "stream",
     "text": [
      "b'<!DOCTYPE html>\\n<html>\\n<head>\\n    <meta charset=\"utf-8\" />\\n    <meta name=\"viewport\" content=\"width=device-width, initial-scale=1.0\">\\n    <title>Show - S\\xe1\\xbb\\x9f Gi\\xc3\\xa1o d\\xe1\\xbb\\xa5c v\\xc3\\xa0 \\xc4\\x90\\xc3\\xa0o t\\xe1\\xba\\xa1o TP HCM</title>\\n    <link href=\"/Content/css?v=Xso9L40tE7BMv39QjIwZA-y7XWNRBA0m2c4mZornwBo1\" rel=\"stylesheet\"/>\\r\\n\\n    <script src=\"/bundles/modernizr?v=wBEWDufH_8Md-Pbioxomt90vm6tJN2Pyy9u9zHtWsPo1\"></script>\\r\\n\\n    <script src=\"/bundles/jquery?v=FVs3ACwOLIVInrAl5sdzR2jrCDmVOWFbZMY6g6Q0ulE1\"></script>\\r\\n\\n    <script src=\"/bundles/bootstrap?v=2Fz3B0iizV2NnnamQFrx-NbYJNTFeBJ2GM05SilbtQU1\"></script>\\r\\n\\n    <script src=\"/bundles/jqueryui\"></script>\\r\\n\\n    <link href=\"/bundles/fonts\" rel=\"stylesheet\"/>\\r\\n\\n   \\r\\n</head>\\r\\n<body>\\r\\n    <nav class=\"navbar navbar-inverse\">\\r\\n        <div class=\"container-fluid\">\\r\\n            <div class=\"navbar-header\">\\r\\n                <img style=\"float:left\" src=\"/Images/Logo_so.png\" width=\"85\" />\\r\\n<div>\\r\\n <label style=\"margin-top: 12px; color: #eeeeee ; font-size: x-large\">TRA C\\xe1\\xbb\\xa8U \\xc4\\x90I\\xe1\\xbb\\x82M</label>   \\r\\n\\t\\t<label style=\"color: #eeeeee ; font-size: medium \">K\\xe1\\xbb\\xb2 THI T\\xe1\\xbb\\x90T NGHI\\xe1\\xbb\\x86P TRUNG H\\xe1\\xbb\\x8cC PH\\xe1\\xbb\\x94 TH\\xc3\\x94NG 2020</label>\\r\\n               \\r\\n               \\r\\n</div>\\r\\n               \\r\\n            </div>\\r\\n           \\r\\n        </div>\\r\\n    </nav>\\r\\n    \\r\\n   \\n    <div class=\"container body-content\" style=\"margin-top:50px\">\\n        \\r\\n\\r\\n\\r\\n\\r\\n\\r\\n    <table style=\"margin-top:50px; border: 1px solid; width:100%\">\\r\\n        <tr>\\r\\n            <td style=\"border: 1px solid ; font-weight: bold \">\\r\\n                H\\xe1\\xbb\\x8d v\\xc3\\xa0 T\\xc3\\xaan\\r\\n            </td>\\r\\n            <td style=\"border: 1px solid ; font-weight: bold\">\\r\\n                Ng\\xc3\\xa0y sinh\\r\\n            </td>\\r\\n            <td style=\"border: 1px solid ; font-weight: bold\">\\r\\n                \\xc4\\x90i\\xe1\\xbb\\x83m thi\\r\\n            </td>\\r\\n           \\r\\n\\r\\n        </tr>\\r\\n\\r\\n        <tr>\\r\\n            <td style=\"border: 1px solid\">\\r\\n                \\xc4\\x90\\xe1\\xba\\xb6NG HU\\xe1\\xbb\\xb2NH V\\xc4\\xa8NH AN\\r\\n            </td>\\r\\n            <td style=\"border: 1px solid\">\\r\\n                13/12/2002\\r\\n            </td>\\r\\n            <td style=\"border: 1px solid\">\\r\\n                To&#225;n:   8.20   Ng\\xe1\\xbb\\xaf v\\xc4\\x83n:   7.75   L\\xe1\\xbb\\x8bch s\\xe1\\xbb\\xad:   7.00   \\xc4\\x90\\xe1\\xbb\\x8ba l&#237;:   7.25   GDCD:   8.50   KHXH: 7.58   Ti\\xe1\\xba\\xbfng Anh:   7.00   \\r\\n            </td>\\r\\n\\r\\n        </tr>\\r\\n\\r\\n    </table>\\r\\n\\r\\n\\r\\n\\r\\n<br />\\r\\n\\r\\n\\r\\n\\n        <br />\\n        \\r\\n  \\r\\n</div>\\n  \\n   \\n    \\n</body>\\n</html>\\n'\n"
     ]
    }
   ],
   "source": [
    "print(line[1])"
   ]
  },
  {
   "cell_type": "code",
   "execution_count": null,
   "id": "ade2cd89",
   "metadata": {},
   "outputs": [],
   "source": []
  }
 ],
 "metadata": {
  "kernelspec": {
   "display_name": "Python 3 (ipykernel)",
   "language": "python",
   "name": "python3"
  },
  "language_info": {
   "codemirror_mode": {
    "name": "ipython",
    "version": 3
   },
   "file_extension": ".py",
   "mimetype": "text/x-python",
   "name": "python",
   "nbconvert_exporter": "python",
   "pygments_lexer": "ipython3",
   "version": "3.9.7"
  }
 },
 "nbformat": 4,
 "nbformat_minor": 5
}
