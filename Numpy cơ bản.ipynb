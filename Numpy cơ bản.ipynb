{
 "cells": [
  {
   "cell_type": "code",
   "execution_count": 2,
   "id": "7f165d86",
   "metadata": {},
   "outputs": [],
   "source": [
    "import numpy as np"
   ]
  },
  {
   "cell_type": "markdown",
   "id": "7e4cc41e",
   "metadata": {},
   "source": [
    "#### Create numpy array from Python list"
   ]
  },
  {
   "cell_type": "code",
   "execution_count": 2,
   "id": "ac2dadfb",
   "metadata": {},
   "outputs": [
    {
     "data": {
      "text/plain": [
       "array([1, 2, 3, 4, 5])"
      ]
     },
     "execution_count": 2,
     "metadata": {},
     "output_type": "execute_result"
    }
   ],
   "source": [
    "np.array([1,2,3,4,5])"
   ]
  },
  {
   "cell_type": "markdown",
   "id": "a46581e2",
   "metadata": {},
   "source": [
    "#### convert type"
   ]
  },
  {
   "cell_type": "code",
   "execution_count": 4,
   "id": "efdc3697",
   "metadata": {},
   "outputs": [
    {
     "data": {
      "text/plain": [
       "array([1., 2., 3., 4., 5.], dtype=float32)"
      ]
     },
     "execution_count": 4,
     "metadata": {},
     "output_type": "execute_result"
    }
   ],
   "source": [
    "np.array([1,2,3,4,5], dtype='float32')"
   ]
  },
  {
   "cell_type": "code",
   "execution_count": 5,
   "id": "3c91382c",
   "metadata": {},
   "outputs": [],
   "source": [
    "a2 = np.array([[1,2,3,4], [5,6,7,8]])"
   ]
  },
  {
   "cell_type": "code",
   "execution_count": 6,
   "id": "cbf9e787",
   "metadata": {},
   "outputs": [
    {
     "name": "stdout",
     "output_type": "stream",
     "text": [
      "[[1 2 3 4]\n",
      " [5 6 7 8]]\n"
     ]
    }
   ],
   "source": [
    "print(a2)"
   ]
  },
  {
   "cell_type": "code",
   "execution_count": 8,
   "id": "40bc282c",
   "metadata": {},
   "outputs": [
    {
     "data": {
      "text/plain": [
       "2"
      ]
     },
     "execution_count": 8,
     "metadata": {},
     "output_type": "execute_result"
    }
   ],
   "source": [
    "a2.ndim"
   ]
  },
  {
   "cell_type": "code",
   "execution_count": 9,
   "id": "5fddd275",
   "metadata": {},
   "outputs": [
    {
     "data": {
      "text/plain": [
       "(2, 4)"
      ]
     },
     "execution_count": 9,
     "metadata": {},
     "output_type": "execute_result"
    }
   ],
   "source": [
    "a2.shape"
   ]
  },
  {
   "cell_type": "code",
   "execution_count": 10,
   "id": "6d6201ec",
   "metadata": {},
   "outputs": [
    {
     "data": {
      "text/plain": [
       "dtype('int32')"
      ]
     },
     "execution_count": 10,
     "metadata": {},
     "output_type": "execute_result"
    }
   ],
   "source": [
    "a2.dtype"
   ]
  },
  {
   "cell_type": "code",
   "execution_count": 11,
   "id": "ee267141",
   "metadata": {},
   "outputs": [
    {
     "data": {
      "text/plain": [
       "8"
      ]
     },
     "execution_count": 11,
     "metadata": {},
     "output_type": "execute_result"
    }
   ],
   "source": [
    "a2.size"
   ]
  },
  {
   "cell_type": "markdown",
   "id": "e5f61b5e",
   "metadata": {},
   "source": [
    "# 1. Create Numpy Arrays from Scratch\n",
    "\n",
    "#### Zeros, ones, full, arange, linspace"
   ]
  },
  {
   "cell_type": "code",
   "execution_count": 12,
   "id": "6b1e844a",
   "metadata": {},
   "outputs": [
    {
     "data": {
      "text/plain": [
       "array([[0., 0., 0., 0.],\n",
       "       [0., 0., 0., 0.]])"
      ]
     },
     "execution_count": 12,
     "metadata": {},
     "output_type": "execute_result"
    }
   ],
   "source": [
    "# zeros tạo mảng toàn số không\n",
    "np.zeros([2,4])"
   ]
  },
  {
   "cell_type": "code",
   "execution_count": 13,
   "id": "88cfaf51",
   "metadata": {},
   "outputs": [
    {
     "data": {
      "text/plain": [
       "dtype('float64')"
      ]
     },
     "execution_count": 13,
     "metadata": {},
     "output_type": "execute_result"
    }
   ],
   "source": [
    "np.zeros([2,4]).dtype"
   ]
  },
  {
   "cell_type": "code",
   "execution_count": 14,
   "id": "3e97c741",
   "metadata": {},
   "outputs": [
    {
     "data": {
      "text/plain": [
       "array([[0, 0, 0, 0],\n",
       "       [0, 0, 0, 0]])"
      ]
     },
     "execution_count": 14,
     "metadata": {},
     "output_type": "execute_result"
    }
   ],
   "source": [
    "np.zeros([2,4], dtype = 'int')"
   ]
  },
  {
   "cell_type": "code",
   "execution_count": 15,
   "id": "1b523f5b",
   "metadata": {},
   "outputs": [
    {
     "data": {
      "text/plain": [
       "array([[1., 1., 1., 1., 1.],\n",
       "       [1., 1., 1., 1., 1.],\n",
       "       [1., 1., 1., 1., 1.]])"
      ]
     },
     "execution_count": 15,
     "metadata": {},
     "output_type": "execute_result"
    }
   ],
   "source": [
    "# np.ones() tạo mảng toàn số 1\n",
    "np.ones([3,5], dtype = 'float')"
   ]
  },
  {
   "cell_type": "code",
   "execution_count": 16,
   "id": "b4b0a152",
   "metadata": {},
   "outputs": [
    {
     "data": {
      "text/plain": [
       "array([ 0,  2,  4,  6,  8, 10, 12, 14, 16, 18])"
      ]
     },
     "execution_count": 16,
     "metadata": {},
     "output_type": "execute_result"
    }
   ],
   "source": [
    "# np.arange\n",
    "np.arange(0, 20, 2)"
   ]
  },
  {
   "cell_type": "code",
   "execution_count": 17,
   "id": "dcc28463",
   "metadata": {},
   "outputs": [
    {
     "data": {
      "text/plain": [
       "array([[6.9, 6.9, 6.9, 6.9, 6.9],\n",
       "       [6.9, 6.9, 6.9, 6.9, 6.9],\n",
       "       [6.9, 6.9, 6.9, 6.9, 6.9]])"
      ]
     },
     "execution_count": 17,
     "metadata": {},
     "output_type": "execute_result"
    }
   ],
   "source": [
    "#np.full\n",
    "np.full([3,5], 6.9)"
   ]
  },
  {
   "cell_type": "code",
   "execution_count": 18,
   "id": "66b896d6",
   "metadata": {},
   "outputs": [
    {
     "data": {
      "text/plain": [
       "array([0.  , 0.25, 0.5 , 0.75, 1.  ])"
      ]
     },
     "execution_count": 18,
     "metadata": {},
     "output_type": "execute_result"
    }
   ],
   "source": [
    "# np.linspace linear space\n",
    "np.linspace(0,1,5)"
   ]
  },
  {
   "cell_type": "markdown",
   "id": "85866e80",
   "metadata": {},
   "source": [
    "#### Random"
   ]
  },
  {
   "cell_type": "code",
   "execution_count": 19,
   "id": "9245adb2",
   "metadata": {},
   "outputs": [
    {
     "data": {
      "text/plain": [
       "array([[0.09576458, 0.91899699, 0.68151948, 0.59570539],\n",
       "       [0.94787403, 0.51191409, 0.90462192, 0.60211196],\n",
       "       [0.52980339, 0.49691239, 0.11673914, 0.6591843 ],\n",
       "       [0.73262539, 0.61403866, 0.15110465, 0.07618704]])"
      ]
     },
     "execution_count": 19,
     "metadata": {},
     "output_type": "execute_result"
    }
   ],
   "source": [
    "# np.random\n",
    "np.random.random([4,4])"
   ]
  },
  {
   "cell_type": "code",
   "execution_count": 20,
   "id": "91361278",
   "metadata": {},
   "outputs": [
    {
     "data": {
      "text/plain": [
       "array([[0.42570159, 0.15956198, 0.13711127, 0.2592033 ],\n",
       "       [0.87780597, 0.48837998, 0.76068956, 0.27900513],\n",
       "       [0.82595162, 0.75602618, 0.94833714, 0.13282234],\n",
       "       [0.54695983, 0.24820338, 0.51053204, 0.10103394]])"
      ]
     },
     "execution_count": 20,
     "metadata": {},
     "output_type": "execute_result"
    }
   ],
   "source": [
    "np.random.random([4,4])"
   ]
  },
  {
   "cell_type": "code",
   "execution_count": 21,
   "id": "5fffaa01",
   "metadata": {},
   "outputs": [],
   "source": [
    "# Seed\n",
    "np.random.seed(0)"
   ]
  },
  {
   "cell_type": "code",
   "execution_count": 23,
   "id": "1230aac5",
   "metadata": {},
   "outputs": [
    {
     "data": {
      "text/plain": [
       "array([[0.0202184 , 0.83261985, 0.77815675, 0.87001215],\n",
       "       [0.97861834, 0.79915856, 0.46147936, 0.78052918],\n",
       "       [0.11827443, 0.63992102, 0.14335329, 0.94466892],\n",
       "       [0.52184832, 0.41466194, 0.26455561, 0.77423369]])"
      ]
     },
     "execution_count": 23,
     "metadata": {},
     "output_type": "execute_result"
    }
   ],
   "source": [
    "np.random.random([4,4])"
   ]
  },
  {
   "cell_type": "code",
   "execution_count": 25,
   "id": "c6cc412c",
   "metadata": {},
   "outputs": [
    {
     "data": {
      "text/plain": [
       "array([[-1.98079647, -0.34791215,  0.15634897],\n",
       "       [ 1.23029068,  1.20237985, -0.38732682],\n",
       "       [-0.30230275, -1.04855297, -1.42001794]])"
      ]
     },
     "execution_count": 25,
     "metadata": {},
     "output_type": "execute_result"
    }
   ],
   "source": [
    "np.random.normal(0,1, [3,3])"
   ]
  },
  {
   "cell_type": "code",
   "execution_count": 26,
   "id": "fd25ed0e",
   "metadata": {},
   "outputs": [
    {
     "data": {
      "text/plain": [
       "array([[9, 4, 4, 6, 4],\n",
       "       [4, 3, 4, 4, 8],\n",
       "       [4, 3, 7, 5, 5],\n",
       "       [0, 1, 5, 9, 3]])"
      ]
     },
     "execution_count": 26,
     "metadata": {},
     "output_type": "execute_result"
    }
   ],
   "source": [
    "np.random.randint(0, 10, [4,5])"
   ]
  },
  {
   "cell_type": "markdown",
   "id": "644a4c14",
   "metadata": {},
   "source": [
    "# 2. Array indexing and slicing\n",
    "\n",
    "#### One-dimensional subarray"
   ]
  },
  {
   "cell_type": "code",
   "execution_count": 27,
   "id": "1fe53c49",
   "metadata": {},
   "outputs": [],
   "source": [
    "x1 = np.random.randint(0, 20, size = 6)"
   ]
  },
  {
   "cell_type": "code",
   "execution_count": 28,
   "id": "26a47a3f",
   "metadata": {},
   "outputs": [
    {
     "name": "stdout",
     "output_type": "stream",
     "text": [
      "[ 0  5  0 17 18  4]\n"
     ]
    }
   ],
   "source": [
    "print(x1)"
   ]
  },
  {
   "cell_type": "markdown",
   "id": "2481907c",
   "metadata": {},
   "source": [
    "#### Multi-dimensional subarray"
   ]
  },
  {
   "cell_type": "code",
   "execution_count": 29,
   "id": "363dbdf5",
   "metadata": {},
   "outputs": [],
   "source": [
    "x2 = np.random.randint(10, size = [3,4])"
   ]
  },
  {
   "cell_type": "code",
   "execution_count": 30,
   "id": "7e3ab052",
   "metadata": {},
   "outputs": [
    {
     "name": "stdout",
     "output_type": "stream",
     "text": [
      "[[2 0 3 2]\n",
      " [0 7 5 9]\n",
      " [0 2 7 2]]\n"
     ]
    }
   ],
   "source": [
    "print(x2)"
   ]
  },
  {
   "cell_type": "markdown",
   "id": "5d57cf5e",
   "metadata": {},
   "source": [
    "# 3. Reshaping of Array & Transpose"
   ]
  },
  {
   "cell_type": "code",
   "execution_count": 4,
   "id": "59a382d2",
   "metadata": {},
   "outputs": [],
   "source": [
    "grip = np.arange(1, 10)"
   ]
  },
  {
   "cell_type": "code",
   "execution_count": 5,
   "id": "be05db52",
   "metadata": {},
   "outputs": [
    {
     "data": {
      "text/plain": [
       "(9,)"
      ]
     },
     "execution_count": 5,
     "metadata": {},
     "output_type": "execute_result"
    }
   ],
   "source": [
    "grip.shape"
   ]
  },
  {
   "cell_type": "code",
   "execution_count": 6,
   "id": "07c4bc79",
   "metadata": {},
   "outputs": [
    {
     "data": {
      "text/plain": [
       "array([1, 2, 3, 4, 5, 6, 7, 8, 9])"
      ]
     },
     "execution_count": 6,
     "metadata": {},
     "output_type": "execute_result"
    }
   ],
   "source": [
    "grip"
   ]
  },
  {
   "cell_type": "code",
   "execution_count": 7,
   "id": "7ee467bc",
   "metadata": {},
   "outputs": [
    {
     "data": {
      "text/plain": [
       "array([[1, 2, 3],\n",
       "       [4, 5, 6],\n",
       "       [7, 8, 9]])"
      ]
     },
     "execution_count": 7,
     "metadata": {},
     "output_type": "execute_result"
    }
   ],
   "source": [
    "grip.reshape([3,3])"
   ]
  },
  {
   "cell_type": "code",
   "execution_count": 8,
   "id": "0f4cee2f",
   "metadata": {},
   "outputs": [
    {
     "data": {
      "text/plain": [
       "(3,)"
      ]
     },
     "execution_count": 8,
     "metadata": {},
     "output_type": "execute_result"
    }
   ],
   "source": [
    "x = np.array([1,2,3])\n",
    "x.shape"
   ]
  },
  {
   "cell_type": "code",
   "execution_count": 11,
   "id": "4f8ccdc0",
   "metadata": {},
   "outputs": [],
   "source": [
    "x = x.reshape([1,3])"
   ]
  },
  {
   "cell_type": "code",
   "execution_count": 12,
   "id": "371ae4ff",
   "metadata": {},
   "outputs": [
    {
     "data": {
      "text/plain": [
       "(1, 3)"
      ]
     },
     "execution_count": 12,
     "metadata": {},
     "output_type": "execute_result"
    }
   ],
   "source": [
    "x.shape"
   ]
  },
  {
   "cell_type": "code",
   "execution_count": 15,
   "id": "01698d0b",
   "metadata": {},
   "outputs": [
    {
     "data": {
      "text/plain": [
       "(2, 3)"
      ]
     },
     "execution_count": 15,
     "metadata": {},
     "output_type": "execute_result"
    }
   ],
   "source": [
    "x = np.array([[1,2,3], [5,8,13]])\n",
    "x.shape"
   ]
  },
  {
   "cell_type": "code",
   "execution_count": 16,
   "id": "63525eb6",
   "metadata": {},
   "outputs": [
    {
     "data": {
      "text/plain": [
       "array([[ 1,  2,  3],\n",
       "       [ 5,  8, 13]])"
      ]
     },
     "execution_count": 16,
     "metadata": {},
     "output_type": "execute_result"
    }
   ],
   "source": [
    "x"
   ]
  },
  {
   "cell_type": "code",
   "execution_count": 17,
   "id": "888bc893",
   "metadata": {},
   "outputs": [
    {
     "data": {
      "text/plain": [
       "array([[ 1,  5],\n",
       "       [ 2,  8],\n",
       "       [ 3, 13]])"
      ]
     },
     "execution_count": 17,
     "metadata": {},
     "output_type": "execute_result"
    }
   ],
   "source": [
    "x.T"
   ]
  },
  {
   "cell_type": "markdown",
   "id": "2ef34435",
   "metadata": {},
   "source": [
    "# 4. Array concatenation and Splitting\n",
    "\n",
    "#### Concatenation"
   ]
  },
  {
   "cell_type": "code",
   "execution_count": 18,
   "id": "5abfd7c2",
   "metadata": {},
   "outputs": [],
   "source": [
    "x = np.array([5,8,13])"
   ]
  },
  {
   "cell_type": "code",
   "execution_count": 19,
   "id": "2bcd0627",
   "metadata": {},
   "outputs": [],
   "source": [
    "y = np.array([1,2,3])"
   ]
  },
  {
   "cell_type": "code",
   "execution_count": 21,
   "id": "2eeaef00",
   "metadata": {},
   "outputs": [
    {
     "data": {
      "text/plain": [
       "array([ 5,  8, 13,  1,  2,  3])"
      ]
     },
     "execution_count": 21,
     "metadata": {},
     "output_type": "execute_result"
    }
   ],
   "source": [
    "np.concatenate([x, y])"
   ]
  },
  {
   "cell_type": "code",
   "execution_count": 22,
   "id": "34c5b6c9",
   "metadata": {},
   "outputs": [],
   "source": [
    "grid = np.array([[1,2,3], [5,8,13]])"
   ]
  },
  {
   "cell_type": "code",
   "execution_count": 23,
   "id": "456210bf",
   "metadata": {},
   "outputs": [
    {
     "data": {
      "text/plain": [
       "array([[ 1,  2,  3],\n",
       "       [ 5,  8, 13]])"
      ]
     },
     "execution_count": 23,
     "metadata": {},
     "output_type": "execute_result"
    }
   ],
   "source": [
    "grid"
   ]
  },
  {
   "cell_type": "code",
   "execution_count": 24,
   "id": "f4fd55da",
   "metadata": {},
   "outputs": [
    {
     "data": {
      "text/plain": [
       "array([[ 1,  2,  3],\n",
       "       [ 5,  8, 13],\n",
       "       [ 1,  2,  3],\n",
       "       [ 5,  8, 13]])"
      ]
     },
     "execution_count": 24,
     "metadata": {},
     "output_type": "execute_result"
    }
   ],
   "source": [
    "np.concatenate([grid, grid])"
   ]
  },
  {
   "cell_type": "code",
   "execution_count": 25,
   "id": "bad3c308",
   "metadata": {},
   "outputs": [
    {
     "data": {
      "text/plain": [
       "array([[ 1,  2,  3,  1,  2,  3],\n",
       "       [ 5,  8, 13,  5,  8, 13]])"
      ]
     },
     "execution_count": 25,
     "metadata": {},
     "output_type": "execute_result"
    }
   ],
   "source": [
    "np.concatenate([grid, grid], axis = 1)"
   ]
  },
  {
   "cell_type": "code",
   "execution_count": 26,
   "id": "71ceb2c3",
   "metadata": {},
   "outputs": [],
   "source": [
    "x = np.array([1,2,3])\n",
    "grid = np.array([[5,8,13], [21,34,55]])"
   ]
  },
  {
   "cell_type": "code",
   "execution_count": 27,
   "id": "4221cc55",
   "metadata": {},
   "outputs": [],
   "source": [
    "y = np.vstack([x, grid])"
   ]
  },
  {
   "cell_type": "code",
   "execution_count": 28,
   "id": "db19cfa1",
   "metadata": {},
   "outputs": [
    {
     "data": {
      "text/plain": [
       "array([[ 1,  2,  3],\n",
       "       [ 5,  8, 13],\n",
       "       [21, 34, 55]])"
      ]
     },
     "execution_count": 28,
     "metadata": {},
     "output_type": "execute_result"
    }
   ],
   "source": [
    "y"
   ]
  },
  {
   "cell_type": "code",
   "execution_count": 32,
   "id": "8bcf7551",
   "metadata": {},
   "outputs": [],
   "source": [
    "z = np.array([[1],[2]])\n",
    "y = np.hstack([z, grid])"
   ]
  },
  {
   "cell_type": "code",
   "execution_count": 33,
   "id": "f3508556",
   "metadata": {},
   "outputs": [
    {
     "data": {
      "text/plain": [
       "array([[ 1,  5,  8, 13],\n",
       "       [ 2, 21, 34, 55]])"
      ]
     },
     "execution_count": 33,
     "metadata": {},
     "output_type": "execute_result"
    }
   ],
   "source": [
    "y"
   ]
  },
  {
   "cell_type": "markdown",
   "id": "de1b1484",
   "metadata": {},
   "source": [
    "#### Splitting"
   ]
  },
  {
   "cell_type": "code",
   "execution_count": 34,
   "id": "dbddad8a",
   "metadata": {},
   "outputs": [],
   "source": [
    "x = np.array([1,2,3,5,8,13])"
   ]
  },
  {
   "cell_type": "code",
   "execution_count": 35,
   "id": "506fbb6f",
   "metadata": {},
   "outputs": [
    {
     "data": {
      "text/plain": [
       "[array([1, 2, 3]), array([5, 8]), array([13])]"
      ]
     },
     "execution_count": 35,
     "metadata": {},
     "output_type": "execute_result"
    }
   ],
   "source": [
    "np.split(x, [3,5])"
   ]
  },
  {
   "cell_type": "code",
   "execution_count": 36,
   "id": "03cbdc03",
   "metadata": {},
   "outputs": [],
   "source": [
    "x1, x2, x3 = np.split(x, [3,5])"
   ]
  },
  {
   "cell_type": "code",
   "execution_count": 37,
   "id": "24780376",
   "metadata": {},
   "outputs": [
    {
     "name": "stdout",
     "output_type": "stream",
     "text": [
      "[1 2 3] [5 8] [13]\n"
     ]
    }
   ],
   "source": [
    "print(x1, x2, x3)"
   ]
  },
  {
   "cell_type": "markdown",
   "id": "b22a3ef9",
   "metadata": {},
   "source": [
    "# 5. Broadcasting and Vectorized operations \n",
    "\n",
    "\n",
    "![Alt text](https://jakevdp.github.io/PythonDataScienceHandbook/figures/02.05-broadcasting.png \"a title\")"
   ]
  },
  {
   "cell_type": "code",
   "execution_count": 38,
   "id": "a1f6dd7f",
   "metadata": {},
   "outputs": [
    {
     "data": {
      "text/plain": [
       "array([0, 1, 2])"
      ]
     },
     "execution_count": 38,
     "metadata": {},
     "output_type": "execute_result"
    }
   ],
   "source": [
    "a = np.arange(3)\n",
    "a"
   ]
  },
  {
   "cell_type": "code",
   "execution_count": 39,
   "id": "7fb4cf04",
   "metadata": {},
   "outputs": [
    {
     "data": {
      "text/plain": [
       "array([5, 6, 7])"
      ]
     },
     "execution_count": 39,
     "metadata": {},
     "output_type": "execute_result"
    }
   ],
   "source": [
    "a + 5"
   ]
  },
  {
   "cell_type": "code",
   "execution_count": 41,
   "id": "8efa19f2",
   "metadata": {},
   "outputs": [
    {
     "data": {
      "text/plain": [
       "array([[1., 1., 1.],\n",
       "       [1., 1., 1.],\n",
       "       [1., 1., 1.]])"
      ]
     },
     "execution_count": 41,
     "metadata": {},
     "output_type": "execute_result"
    }
   ],
   "source": [
    "b = np.ones([3,3])\n",
    "b"
   ]
  },
  {
   "cell_type": "code",
   "execution_count": 42,
   "id": "07554dbf",
   "metadata": {},
   "outputs": [
    {
     "data": {
      "text/plain": [
       "array([[1., 2., 3.],\n",
       "       [1., 2., 3.],\n",
       "       [1., 2., 3.]])"
      ]
     },
     "execution_count": 42,
     "metadata": {},
     "output_type": "execute_result"
    }
   ],
   "source": [
    "a + b"
   ]
  },
  {
   "cell_type": "code",
   "execution_count": 44,
   "id": "9010c3be",
   "metadata": {},
   "outputs": [
    {
     "data": {
      "text/plain": [
       "array([[0],\n",
       "       [1],\n",
       "       [2]])"
      ]
     },
     "execution_count": 44,
     "metadata": {},
     "output_type": "execute_result"
    }
   ],
   "source": [
    "c = np.arange(3).reshape([3,1])\n",
    "c"
   ]
  },
  {
   "cell_type": "code",
   "execution_count": 45,
   "id": "8efc134f",
   "metadata": {},
   "outputs": [
    {
     "data": {
      "text/plain": [
       "array([[0, 1, 2],\n",
       "       [1, 2, 3],\n",
       "       [2, 3, 4]])"
      ]
     },
     "execution_count": 45,
     "metadata": {},
     "output_type": "execute_result"
    }
   ],
   "source": [
    "a + c"
   ]
  },
  {
   "cell_type": "markdown",
   "id": "b327940e",
   "metadata": {},
   "source": [
    "# 6. Manipulating and Comparing Arrays\n",
    "\n",
    "\n",
    "![Alt text](https://media.springernature.com/full/springer-static/image/art%3A10.1038%2Fs41586-020-2649-2/MediaObjects/41586_2020_2649_Fig1_HTML.png \"a title\")"
   ]
  },
  {
   "cell_type": "markdown",
   "id": "7d40b779",
   "metadata": {},
   "source": [
    "### Aggregation\n",
    "Aggregation = performing the same operation on a number of things"
   ]
  },
  {
   "cell_type": "code",
   "execution_count": 46,
   "id": "dd1a509a",
   "metadata": {},
   "outputs": [],
   "source": [
    "list_number = [1,2,3,4]\n",
    "ll = np.array(list_number)"
   ]
  },
  {
   "cell_type": "code",
   "execution_count": 47,
   "id": "b70e9e9e",
   "metadata": {},
   "outputs": [
    {
     "data": {
      "text/plain": [
       "10"
      ]
     },
     "execution_count": 47,
     "metadata": {},
     "output_type": "execute_result"
    }
   ],
   "source": [
    "sum(ll)"
   ]
  },
  {
   "cell_type": "code",
   "execution_count": 48,
   "id": "3679a244",
   "metadata": {},
   "outputs": [
    {
     "data": {
      "text/plain": [
       "10"
      ]
     },
     "execution_count": 48,
     "metadata": {},
     "output_type": "execute_result"
    }
   ],
   "source": [
    "np.sum(ll)"
   ]
  },
  {
   "cell_type": "code",
   "execution_count": null,
   "id": "bb43f66b",
   "metadata": {},
   "outputs": [],
   "source": [
    "# Create a massive Numpy array\n"
   ]
  }
 ],
 "metadata": {
  "kernelspec": {
   "display_name": "Python 3 (ipykernel)",
   "language": "python",
   "name": "python3"
  },
  "language_info": {
   "codemirror_mode": {
    "name": "ipython",
    "version": 3
   },
   "file_extension": ".py",
   "mimetype": "text/x-python",
   "name": "python",
   "nbconvert_exporter": "python",
   "pygments_lexer": "ipython3",
   "version": "3.9.7"
  }
 },
 "nbformat": 4,
 "nbformat_minor": 5
}
